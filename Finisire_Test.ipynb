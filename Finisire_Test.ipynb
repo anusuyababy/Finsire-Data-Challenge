{
  "nbformat": 4,
  "nbformat_minor": 0,
  "metadata": {
    "colab": {
      "name": "Finisire Test",
      "provenance": []
    },
    "kernelspec": {
      "name": "python3",
      "display_name": "Python 3"
    },
    "language_info": {
      "name": "python"
    }
  },
  "cells": [
    {
      "cell_type": "markdown",
      "metadata": {
        "id": "Dyqr9Dl0Rrtk"
      },
      "source": [
        "# FINSIRE TEST"
      ]
    },
    {
      "cell_type": "code",
      "metadata": {
        "colab": {
          "base_uri": "https://localhost:8080/"
        },
        "id": "5iLs9DkTp9IF",
        "outputId": "4e74b79d-316e-49c9-bd3a-c4a2c8838e2c"
      },
      "source": [
        "#importing all libraries\n",
        "import numpy as np\n",
        "import pandas as pd\n",
        "import matplotlib.pyplot as plt\n",
        "import seaborn as sns\n",
        "import nltk\n",
        "import re\n",
        "import time\n",
        "from datetime import datetime\n",
        "nltk.download('stopwords')\n",
        "pd.set_option('display.max_column', None)\n",
        "pd.set_option('display.max_rows', None)\n",
        "pd.set_option('display.max_seq_items', None)\n",
        "pd.set_option('display.max_colwidth', 500)\n",
        "pd.set_option('expand_frame_repr', True)"
      ],
      "execution_count": 323,
      "outputs": [
        {
          "output_type": "stream",
          "text": [
            "[nltk_data] Downloading package stopwords to /root/nltk_data...\n",
            "[nltk_data]   Package stopwords is already up-to-date!\n"
          ],
          "name": "stdout"
        }
      ]
    },
    {
      "cell_type": "code",
      "metadata": {
        "colab": {
          "base_uri": "https://localhost:8080/",
          "height": 258
        },
        "id": "CFiy6ZL6qWp0",
        "outputId": "103b7f9f-7431-4afc-bf09-a8907b6dad80"
      },
      "source": [
        "# i have converted the excel to csv (for my convenient). I have deleted extra rows in that file.\n",
        "df = pd.read_csv('/content/finsire.csv')\n",
        "df.head()"
      ],
      "execution_count": 324,
      "outputs": [
        {
          "output_type": "execute_result",
          "data": {
            "text/html": [
              "<div>\n",
              "<style scoped>\n",
              "    .dataframe tbody tr th:only-of-type {\n",
              "        vertical-align: middle;\n",
              "    }\n",
              "\n",
              "    .dataframe tbody tr th {\n",
              "        vertical-align: top;\n",
              "    }\n",
              "\n",
              "    .dataframe thead th {\n",
              "        text-align: right;\n",
              "    }\n",
              "</style>\n",
              "<table border=\"1\" class=\"dataframe\">\n",
              "  <thead>\n",
              "    <tr style=\"text-align: right;\">\n",
              "      <th></th>\n",
              "      <th>Date</th>\n",
              "      <th>Narration</th>\n",
              "      <th>Value Dt</th>\n",
              "      <th>Withdrawal Amt.</th>\n",
              "      <th>Deposit Amt.</th>\n",
              "    </tr>\n",
              "  </thead>\n",
              "  <tbody>\n",
              "    <tr>\n",
              "      <th>0</th>\n",
              "      <td>01/04/21</td>\n",
              "      <td>UPI-K RAJESH-RAJESHDPMINDIA@OKICICI-ICIC0000009-109112901059-UPI</td>\n",
              "      <td>01/04/21</td>\n",
              "      <td>1.00</td>\n",
              "      <td>NaN</td>\n",
              "    </tr>\n",
              "    <tr>\n",
              "      <th>1</th>\n",
              "      <td>01/04/21</td>\n",
              "      <td>NEFT DR-PUNB0668200-ROHAN-NETBANK, MUM-N091211459394676-FUNDS</td>\n",
              "      <td>01/04/21</td>\n",
              "      <td>17816.00</td>\n",
              "      <td>NaN</td>\n",
              "    </tr>\n",
              "    <tr>\n",
              "      <th>2</th>\n",
              "      <td>01/04/21</td>\n",
              "      <td>UPI-K RAJESH-RAJESHDPMINDIA@OKICICI-ICIC0000009-109117511967-UPI</td>\n",
              "      <td>01/04/21</td>\n",
              "      <td>24999.00</td>\n",
              "      <td>NaN</td>\n",
              "    </tr>\n",
              "    <tr>\n",
              "      <th>3</th>\n",
              "      <td>01/04/21</td>\n",
              "      <td>UPI-ZOMATO-ZOMATO-ORDER@PAYTM-PYTM0123456-109117628409-ZOMATO PAYMENT</td>\n",
              "      <td>01/04/21</td>\n",
              "      <td>111.18</td>\n",
              "      <td>NaN</td>\n",
              "    </tr>\n",
              "    <tr>\n",
              "      <th>4</th>\n",
              "      <td>02/04/21</td>\n",
              "      <td>UPI-MAHENDRAN K M-SRIMURUGANSUPERMARKET1969@OKHDFCBANK-HDFC0001864-109218533308-UPI</td>\n",
              "      <td>02/04/21</td>\n",
              "      <td>40.00</td>\n",
              "      <td>NaN</td>\n",
              "    </tr>\n",
              "  </tbody>\n",
              "</table>\n",
              "</div>"
            ],
            "text/plain": [
              "       Date  \\\n",
              "0  01/04/21   \n",
              "1  01/04/21   \n",
              "2  01/04/21   \n",
              "3  01/04/21   \n",
              "4  02/04/21   \n",
              "\n",
              "                                                                             Narration  \\\n",
              "0                     UPI-K RAJESH-RAJESHDPMINDIA@OKICICI-ICIC0000009-109112901059-UPI   \n",
              "1                        NEFT DR-PUNB0668200-ROHAN-NETBANK, MUM-N091211459394676-FUNDS   \n",
              "2                     UPI-K RAJESH-RAJESHDPMINDIA@OKICICI-ICIC0000009-109117511967-UPI   \n",
              "3                UPI-ZOMATO-ZOMATO-ORDER@PAYTM-PYTM0123456-109117628409-ZOMATO PAYMENT   \n",
              "4  UPI-MAHENDRAN K M-SRIMURUGANSUPERMARKET1969@OKHDFCBANK-HDFC0001864-109218533308-UPI   \n",
              "\n",
              "   Value Dt  Withdrawal Amt.  Deposit Amt.  \n",
              "0  01/04/21             1.00           NaN  \n",
              "1  01/04/21         17816.00           NaN  \n",
              "2  01/04/21         24999.00           NaN  \n",
              "3  01/04/21           111.18           NaN  \n",
              "4  02/04/21            40.00           NaN  "
            ]
          },
          "metadata": {
            "tags": []
          },
          "execution_count": 324
        }
      ]
    },
    {
      "cell_type": "code",
      "metadata": {
        "colab": {
          "base_uri": "https://localhost:8080/"
        },
        "id": "ca6gxeLO4Eb7",
        "outputId": "9ba69d58-f8dd-4137-8225-48d6f09e3cf3"
      },
      "source": [
        "df.columns"
      ],
      "execution_count": 325,
      "outputs": [
        {
          "output_type": "execute_result",
          "data": {
            "text/plain": [
              "Index(['Date', 'Narration', 'Value Dt', 'Withdrawal Amt.', 'Deposit Amt.'], dtype='object')"
            ]
          },
          "metadata": {
            "tags": []
          },
          "execution_count": 325
        }
      ]
    },
    {
      "cell_type": "code",
      "metadata": {
        "id": "thHHL8j_4BZL"
      },
      "source": [
        "# renaming the column for user to understand\n",
        "df.rename(columns = {'Value Dt':'Value Date', 'Withdrawal Amt.' : 'Debit', 'Deposit Amt.' : 'Credit'}, inplace = True)"
      ],
      "execution_count": 326,
      "outputs": []
    },
    {
      "cell_type": "code",
      "metadata": {
        "colab": {
          "base_uri": "https://localhost:8080/"
        },
        "id": "AzHjGew1qWvI",
        "outputId": "80dfc51e-a6d4-4356-e25e-14e66e70a78b"
      },
      "source": [
        "# checking the no of rows and columns in the dataframe\n",
        "df.shape"
      ],
      "execution_count": 327,
      "outputs": [
        {
          "output_type": "execute_result",
          "data": {
            "text/plain": [
              "(225, 5)"
            ]
          },
          "metadata": {
            "tags": []
          },
          "execution_count": 327
        }
      ]
    },
    {
      "cell_type": "code",
      "metadata": {
        "colab": {
          "base_uri": "https://localhost:8080/"
        },
        "id": "uEeVBNNCqW0K",
        "outputId": "72bdf4e7-a95b-4f01-ed18-4d9799b49895"
      },
      "source": [
        "#checking any null values in the dataframe\n",
        "df.isnull().sum()"
      ],
      "execution_count": 328,
      "outputs": [
        {
          "output_type": "execute_result",
          "data": {
            "text/plain": [
              "Date            0\n",
              "Narration       0\n",
              "Value Date      0\n",
              "Debit          19\n",
              "Credit        206\n",
              "dtype: int64"
            ]
          },
          "metadata": {
            "tags": []
          },
          "execution_count": 328
        }
      ]
    },
    {
      "cell_type": "code",
      "metadata": {
        "id": "KggCoOpQqW3O"
      },
      "source": [
        "# replacing 'nan' values with zero\n",
        "df.fillna(0, inplace=True)"
      ],
      "execution_count": 329,
      "outputs": []
    },
    {
      "cell_type": "code",
      "metadata": {
        "colab": {
          "base_uri": "https://localhost:8080/"
        },
        "id": "C67J-VWnqW7f",
        "outputId": "51f2ba9d-db1b-4007-a0c5-2b031a807b66"
      },
      "source": [
        "#Again checking the null values, it shows no null values\n",
        "df.isnull().sum()"
      ],
      "execution_count": 330,
      "outputs": [
        {
          "output_type": "execute_result",
          "data": {
            "text/plain": [
              "Date          0\n",
              "Narration     0\n",
              "Value Date    0\n",
              "Debit         0\n",
              "Credit        0\n",
              "dtype: int64"
            ]
          },
          "metadata": {
            "tags": []
          },
          "execution_count": 330
        }
      ]
    },
    {
      "cell_type": "code",
      "metadata": {
        "colab": {
          "base_uri": "https://localhost:8080/"
        },
        "id": "cbQhF5DcrWNp",
        "outputId": "1bac8ea4-d07e-49ac-96cd-def28ba2b28e"
      },
      "source": [
        "# checking the dataframe information whether it is object or date type or integer type.\n",
        "df.info()"
      ],
      "execution_count": 331,
      "outputs": [
        {
          "output_type": "stream",
          "text": [
            "<class 'pandas.core.frame.DataFrame'>\n",
            "RangeIndex: 225 entries, 0 to 224\n",
            "Data columns (total 5 columns):\n",
            " #   Column      Non-Null Count  Dtype  \n",
            "---  ------      --------------  -----  \n",
            " 0   Date        225 non-null    object \n",
            " 1   Narration   225 non-null    object \n",
            " 2   Value Date  225 non-null    object \n",
            " 3   Debit       225 non-null    float64\n",
            " 4   Credit      225 non-null    float64\n",
            "dtypes: float64(2), object(3)\n",
            "memory usage: 8.9+ KB\n"
          ],
          "name": "stdout"
        }
      ]
    },
    {
      "cell_type": "code",
      "metadata": {
        "id": "3s4UPyDkrWUf"
      },
      "source": [
        "#Based on the above information , date is misclassified as \"object\" type. So we are converting them to datetype.\n",
        "df[\"Date\"] = pd.to_datetime(df[\"Date\"])\n",
        "df[\"Value Date\"] = pd.to_datetime(df[\"Value Date\"])"
      ],
      "execution_count": 332,
      "outputs": []
    },
    {
      "cell_type": "code",
      "metadata": {
        "colab": {
          "base_uri": "https://localhost:8080/",
          "height": 258
        },
        "id": "o1vDbqbUrWae",
        "outputId": "b8e16375-c5f4-467c-9ab3-556ab60c4633"
      },
      "source": [
        "df.head()"
      ],
      "execution_count": 333,
      "outputs": [
        {
          "output_type": "execute_result",
          "data": {
            "text/html": [
              "<div>\n",
              "<style scoped>\n",
              "    .dataframe tbody tr th:only-of-type {\n",
              "        vertical-align: middle;\n",
              "    }\n",
              "\n",
              "    .dataframe tbody tr th {\n",
              "        vertical-align: top;\n",
              "    }\n",
              "\n",
              "    .dataframe thead th {\n",
              "        text-align: right;\n",
              "    }\n",
              "</style>\n",
              "<table border=\"1\" class=\"dataframe\">\n",
              "  <thead>\n",
              "    <tr style=\"text-align: right;\">\n",
              "      <th></th>\n",
              "      <th>Date</th>\n",
              "      <th>Narration</th>\n",
              "      <th>Value Date</th>\n",
              "      <th>Debit</th>\n",
              "      <th>Credit</th>\n",
              "    </tr>\n",
              "  </thead>\n",
              "  <tbody>\n",
              "    <tr>\n",
              "      <th>0</th>\n",
              "      <td>2021-01-04</td>\n",
              "      <td>UPI-K RAJESH-RAJESHDPMINDIA@OKICICI-ICIC0000009-109112901059-UPI</td>\n",
              "      <td>2021-01-04</td>\n",
              "      <td>1.00</td>\n",
              "      <td>0.0</td>\n",
              "    </tr>\n",
              "    <tr>\n",
              "      <th>1</th>\n",
              "      <td>2021-01-04</td>\n",
              "      <td>NEFT DR-PUNB0668200-ROHAN-NETBANK, MUM-N091211459394676-FUNDS</td>\n",
              "      <td>2021-01-04</td>\n",
              "      <td>17816.00</td>\n",
              "      <td>0.0</td>\n",
              "    </tr>\n",
              "    <tr>\n",
              "      <th>2</th>\n",
              "      <td>2021-01-04</td>\n",
              "      <td>UPI-K RAJESH-RAJESHDPMINDIA@OKICICI-ICIC0000009-109117511967-UPI</td>\n",
              "      <td>2021-01-04</td>\n",
              "      <td>24999.00</td>\n",
              "      <td>0.0</td>\n",
              "    </tr>\n",
              "    <tr>\n",
              "      <th>3</th>\n",
              "      <td>2021-01-04</td>\n",
              "      <td>UPI-ZOMATO-ZOMATO-ORDER@PAYTM-PYTM0123456-109117628409-ZOMATO PAYMENT</td>\n",
              "      <td>2021-01-04</td>\n",
              "      <td>111.18</td>\n",
              "      <td>0.0</td>\n",
              "    </tr>\n",
              "    <tr>\n",
              "      <th>4</th>\n",
              "      <td>2021-02-04</td>\n",
              "      <td>UPI-MAHENDRAN K M-SRIMURUGANSUPERMARKET1969@OKHDFCBANK-HDFC0001864-109218533308-UPI</td>\n",
              "      <td>2021-02-04</td>\n",
              "      <td>40.00</td>\n",
              "      <td>0.0</td>\n",
              "    </tr>\n",
              "  </tbody>\n",
              "</table>\n",
              "</div>"
            ],
            "text/plain": [
              "        Date  \\\n",
              "0 2021-01-04   \n",
              "1 2021-01-04   \n",
              "2 2021-01-04   \n",
              "3 2021-01-04   \n",
              "4 2021-02-04   \n",
              "\n",
              "                                                                             Narration  \\\n",
              "0                     UPI-K RAJESH-RAJESHDPMINDIA@OKICICI-ICIC0000009-109112901059-UPI   \n",
              "1                        NEFT DR-PUNB0668200-ROHAN-NETBANK, MUM-N091211459394676-FUNDS   \n",
              "2                     UPI-K RAJESH-RAJESHDPMINDIA@OKICICI-ICIC0000009-109117511967-UPI   \n",
              "3                UPI-ZOMATO-ZOMATO-ORDER@PAYTM-PYTM0123456-109117628409-ZOMATO PAYMENT   \n",
              "4  UPI-MAHENDRAN K M-SRIMURUGANSUPERMARKET1969@OKHDFCBANK-HDFC0001864-109218533308-UPI   \n",
              "\n",
              "  Value Date     Debit  Credit  \n",
              "0 2021-01-04      1.00     0.0  \n",
              "1 2021-01-04  17816.00     0.0  \n",
              "2 2021-01-04  24999.00     0.0  \n",
              "3 2021-01-04    111.18     0.0  \n",
              "4 2021-02-04     40.00     0.0  "
            ]
          },
          "metadata": {
            "tags": []
          },
          "execution_count": 333
        }
      ]
    },
    {
      "cell_type": "code",
      "metadata": {
        "colab": {
          "base_uri": "https://localhost:8080/"
        },
        "id": "6hkxG-S5rWe9",
        "outputId": "8eafae28-8c3a-415b-de27-fbcc64935a6b"
      },
      "source": [
        "df.info()"
      ],
      "execution_count": 334,
      "outputs": [
        {
          "output_type": "stream",
          "text": [
            "<class 'pandas.core.frame.DataFrame'>\n",
            "RangeIndex: 225 entries, 0 to 224\n",
            "Data columns (total 5 columns):\n",
            " #   Column      Non-Null Count  Dtype         \n",
            "---  ------      --------------  -----         \n",
            " 0   Date        225 non-null    datetime64[ns]\n",
            " 1   Narration   225 non-null    object        \n",
            " 2   Value Date  225 non-null    datetime64[ns]\n",
            " 3   Debit       225 non-null    float64       \n",
            " 4   Credit      225 non-null    float64       \n",
            "dtypes: datetime64[ns](2), float64(2), object(1)\n",
            "memory usage: 8.9+ KB\n"
          ],
          "name": "stdout"
        }
      ]
    },
    {
      "cell_type": "markdown",
      "metadata": {
        "id": "m-eUQz_JS2aA"
      },
      "source": [
        "## FEATURE ENGINEERING"
      ]
    },
    {
      "cell_type": "markdown",
      "metadata": {
        "id": "2IRn-NlGzDfW"
      },
      "source": [
        "Takes the transactions and classifies them into categories\n",
        "\n",
        "1. Online food \n",
        "2. Online Shopping\n",
        "3. Broker (Zerodha transactions)  \n",
        "4. Subscriptions & Recharges, \n",
        "5. Utility, \n",
        "6. online credit aggregator, \n",
        "7. fund transfers, cash withdrawal, and Misc. "
      ]
    },
    {
      "cell_type": "code",
      "metadata": {
        "id": "S3cqWNyCyTyJ"
      },
      "source": [
        "# so cleaning the narration column for extracting information.\n",
        "t = df[\"Narration\"]\n",
        "t = t.apply(lambda x: x.lower())"
      ],
      "execution_count": 335,
      "outputs": []
    },
    {
      "cell_type": "code",
      "metadata": {
        "id": "6-G1KdZeyT4R"
      },
      "source": [
        "# Removing numbers and special characters\n",
        "text = t.replace(to_replace=\"[0-9]\", value=\"\", regex=True).apply(lambda x: x.replace(\"/\", \"\").replace(\"\\\\\", \"\").replace(\":\", \"\").replace(\"\\n\", \" \").replace(\"-\", \" \")\n",
        "        .replace(\"/\", \" \"))\n"
      ],
      "execution_count": 336,
      "outputs": []
    },
    {
      "cell_type": "code",
      "metadata": {
        "id": "lLbBN8EWyT8j"
      },
      "source": [
        "for i in range(len(text)):\n",
        "  x = text[i].split()\n",
        "  for j in range(len(x)):\n",
        "    x[j] = x[j].strip()\n",
        "  text[i] = \" \".join(x)"
      ],
      "execution_count": 337,
      "outputs": []
    },
    {
      "cell_type": "code",
      "metadata": {
        "colab": {
          "base_uri": "https://localhost:8080/"
        },
        "id": "AiGINVx-yUAO",
        "outputId": "0a8b897f-f62e-4af0-b267-12dc7b932dbc"
      },
      "source": [
        "text"
      ],
      "execution_count": 338,
      "outputs": [
        {
          "output_type": "execute_result",
          "data": {
            "text/plain": [
              "0                                                      upi k rajesh rajeshdpmindia@okicici icic upi\n",
              "1                                                           neft dr punb rohan netbank, mum n funds\n",
              "2                                                      upi k rajesh rajeshdpmindia@okicici icic upi\n",
              "3                                                 upi zomato zomato order@paytm pytm zomato payment\n",
              "4                                       upi mahendran k m srimurugansupermarket@okhdfcbank hdfc upi\n",
              "5                                                 upi zomato zomato order@paytm pytm zomato payment\n",
              "6                                           upi mr shakshi nahar shakshi.nahar@okhdfcbank idibg upi\n",
              "7                                                 upi zomato zomato@hdfcbank hdfc zomatoonlineorder\n",
              "8                                                        upi googlepay goog payment@okaxis utib upi\n",
              "9                                                 upi zomato zomato order@paytm pytm zomato payment\n",
              "10                                      upi razorpayzomato zomatoindia@icici icic zomatoonlineorder\n",
              "11                                                       upi googlepay goog payment@okaxis utib upi\n",
              "12                                                       upi zerodha zerodha.razorpay@icici icic ze\n",
              "13                                                               upi kapoor chand amzn@apl punb upi\n",
              "14                                                upi zomato zomato order@paytm pytm zomato payment\n",
              "15                                          upi mr shakshi nahar shakshi.nahar@okhdfcbank idibg upi\n",
              "16                                                  upi zerodha zerodha.razorpay@icici icic zerodha\n",
              "17                                      upi razorpayzomato zomatoindia@icici icic zomatoonlineorder\n",
              "18                                              upi amith kumar r amithshreemobiles@okaxis fdrl upi\n",
              "19                                                                      pos xxxxxx t nagar thirumal\n",
              "20                                                                                       ach c iocl\n",
              "21                                upi zerodha broking ltd zerodhabroking@hdfcbank hdfc kite deposit\n",
              "22                                                              upi k surya suryak @okaxis ioba upi\n",
              "23                                      upi mahendran k m srimurugansupermarket@okhdfcbank hdfc upi\n",
              "24                                                upi zomato zomato order@paytm pytm zomato payment\n",
              "25                                      upi mr joseph kulasekara josephkulasekaran@okaxis idibm upi\n",
              "26                                                upi zomato zomato order@paytm pytm zomato payment\n",
              "27                                                                     upi rajaram r q@ybl bkid upi\n",
              "28                                               upi decathlon decathlon@ybl yesbyblupi payment for\n",
              "29                                                upi zomato zomato order@paytm pytm zomato payment\n",
              "30                                                upi zomato zomato order@paytm pytm zomato payment\n",
              "31                                                upi zomato zomato order@paytm pytm zomato payment\n",
              "32                                                    upi anirudh m anirudh.mrl@okhdfcbank hdfc upi\n",
              "33                                               upi akshay r akshay.radhavasan@okhdfcbank hdfc upi\n",
              "34                                              upi madhav gopal madhav@oksbi sbin madhav and vichi\n",
              "35                                                        upi turf town sporting p eze@cub ciub upi\n",
              "36                                               upi adithya t bunty.adithya@okicici kvbl tiki taka\n",
              "37                                                upi zomato zomato order@paytm pytm zomato payment\n",
              "38                                      upi mahendran k m srimurugansupermarket@okhdfcbank hdfc upi\n",
              "39                                                                    upi john britto @upi sibl upi\n",
              "40                                                upi zomato zomato order@paytm pytm zomato payment\n",
              "41                                upi zerodha broking ltd zerodhabroking@hdfcbank hdfc kite deposit\n",
              "42                                 upi amazon seller servic amazonsellerservices.@hdfcbank hdfc upi\n",
              "43                                          upi mr kishore kumar nah kishore.nahar@okaxis idibg upi\n",
              "44                                         upi nilani nallamuthu nilani.nallamuthu@okicici ubin upi\n",
              "45                                                upi zomato zomato order@paytm pytm zomato payment\n",
              "46                                          upi mr kishore kumar nah kishore.nahar@okaxis idibg upi\n",
              "47                                          upi mr shakshi nahar shakshi.nahar@okhdfcbank idibg upi\n",
              "48                                                upi zomato zomato@hdfcbank hdfc zomatoonlineorder\n",
              "49                                                                           nwd xxxxxx sag chennai\n",
              "50                                                                           nwd xxxxxx sag chennai\n",
              "51                                                upi zomato zomato order@paytm pytm zomato payment\n",
              "52                                               upi paytm airtel recharg payair@paytm pytm oid@pay\n",
              "53                                        upi shreya kishore nahar shreya.nahar@okhdfcbank hdfc upi\n",
              "54                                                     upi mahalakshmi n mahalaksh@okicici karb upi\n",
              "55                                                                      pos xxxxxx t nagar thirumal\n",
              "56                                                upi zomato zomato order@paytm pytm zomato payment\n",
              "57                                                               inst alert chg inc gst jan mar mir\n",
              "58                                         upi flipkart flipkart.payu@hdfcbank hdfc upi transaction\n",
              "59                                                upi zomato zomato order@paytm pytm zomato payment\n",
              "60                                                upi zomato zomato order@paytm pytm zomato payment\n",
              "61                                      upi mahendran k m srimurugansupermarket@okhdfcbank hdfc upi\n",
              "62                                                upi zomato zomato order@paytm pytm zomato payment\n",
              "63                                               upi swiggy swiggyupi@axisbank utib swiggy order id\n",
              "64                                                upi zomato zomato order@paytm pytm zomato payment\n",
              "65                              upi zerodha broking ltd zerodhabroking@hdfcbank hdfc zerodha equity\n",
              "66                                                upi zomato zomato@hdfcbank hdfc zomatoonlineorder\n",
              "67                                                          neft dr punb rohan netbank, mum n funds\n",
              "68                                                upi zomato zomato order@paytm pytm zomato payment\n",
              "69                                                upi zomato zomato order@paytm pytm zomato payment\n",
              "70                                      upi mahendran k m srimurugansupermarket@okhdfcbank hdfc the\n",
              "71                                                upi zomato zomato@hdfcbank hdfc zomatoonlineorder\n",
              "72                              upi zerodha broking ltd zerodhabroking@hdfcbank hdfc zerodha equity\n",
              "73                                      upi razorpayzomato zomatoindia@icici icic zomatoonlineorder\n",
              "74                                                     upi mcrennett habibulla q@ybl yesbyblupi upi\n",
              "75                                                                       upi rajamma q@ybl fdrl the\n",
              "76                                                upi zomato zomato order@paytm pytm zomato payment\n",
              "77                                      upi razorpayzomato zomatoindia@icici icic zomatoonlineorder\n",
              "78                                               upi swiggy swiggyupi@axisbank utib swiggy order id\n",
              "79                                                upi zomato zomato order@paytm pytm zomato payment\n",
              "80                                                               upi kapoor chand amzn@apl punb upi\n",
              "81                                      upi bharatpemerchant bharatpe.@icici icic pay to brown tree\n",
              "82                                      upi bharatpemerchant bharatpe.@icici icic pay to brown tree\n",
              "83                                               upi swiggy swiggyupi@axisbank utib swiggy order id\n",
              "84                                                              ib funds transfer dr shreyans nahar\n",
              "85                                                                     upi nagaraj t q@ybl sbin upi\n",
              "86                                                upi zomato zomato order@paytm pytm zomato payment\n",
              "87                                      upi razorpayzomato zomatoindia@icici icic zomatoonlineorder\n",
              "88                                          upi mr kishore kumar nah kishore.nahar@okaxis idibg upi\n",
              "89                                                upi zomato zomato order@paytm pytm zomato payment\n",
              "90                                                  upi rpanneerselvam pannerselvam@okaxis lavb upi\n",
              "91                                                                       pos xxxxxx just buy cycles\n",
              "92                                     upi flipkart internet pv flipkart@indus indb upi transaction\n",
              "93                                      upi durga prasad upadhy durgaprasadupadhyay @oksbi sbin upi\n",
              "94                                      upi durga prasad upadhy durgaprasadupadhyay @oksbi sbin upi\n",
              "95                                         upi balaji sandwich egmo paytmqrgurjaifde@paytm pytm upi\n",
              "96                                                     upi s divya paytmqrkjhxyyikiz@paytm pytm upi\n",
              "97                                      upi razorpayzomato zomatoindia@icici icic zomatoonlineorder\n",
              "98                                               upi swiggy upiswiggy@icici icic payment for swiggy\n",
              "99                                               upi swiggy upiswiggy@icici icic txn failed at merc\n",
              "100                             upi zerodha broking ltd zerodhabroking@hdfcbank hdfc zerodha equity\n",
              "101                                               upi zomato zomato order@paytm pytm zomato payment\n",
              "102                                              upi swiggy swiggyupi@axisbank utib swiggy order id\n",
              "103                                         upi mr kishore kumar nah kishore.nahar@okaxis idibg upi\n",
              "104                                         upi mr shakshi nahar shakshi.nahar@okhdfcbank idibg upi\n",
              "105                                                 upi zerodha zerodha.razorpay@icici icic zerodha\n",
              "106                                     upi razorpayzomato zomatoindia@icici icic zomatoonlineorder\n",
              "107                                       upi shreya kishore nahar shreya.nahar@okhdfcbank hdfc upi\n",
              "108                                              upi swiggy swiggyupi@axisbank utib swiggy order id\n",
              "109                                     upi razorpayzomato zomatoindia@icici icic zomatoonlineorder\n",
              "110                                         upi mr kishore kumar nah kishore.nahar@okaxis idibg upi\n",
              "111                                              upi swiggy swiggyupi@axisbank utib swiggy order id\n",
              "112                                              upi swiggy swiggyupi@axisbank utib swiggy order id\n",
              "113                                              upi swiggy swiggyupi@axisbank utib swiggy order id\n",
              "114                                              upi paytm airtel recharg payair@paytm pytm oid@pay\n",
              "115                                        upi flipkart flipkart.payu@hdfcbank hdfc upi transaction\n",
              "116                                                  upi coffee house at moun paytm @paytm pytm upi\n",
              "117                                               upi zomato zomato order@paytm pytm zomato payment\n",
              "118                                                            upi dayashankar dubey q@ybl kkbk upi\n",
              "119                                               upi zomato zomato order@paytm pytm zomato payment\n",
              "120                                        upi zerodha broking ltd zerodhabroking@hdfcbank hdfc upi\n",
              "121                                                    neft cr sbin mr ashish g shreyans nahar sbin\n",
              "122                                             upi billdesktez billdesk.electricity@icici icic upi\n",
              "123                                     upi razorpayzomato zomatoindia@icici icic zomatoonlineorder\n",
              "124                                                            upi dayashankar dubey q@ybl kkbk upi\n",
              "125                                              upi swiggy upiswiggy@icici icic payment for swiggy\n",
              "126                                     upi durga prasad upadhy durgaprasadupadhyay @oksbi sbin upi\n",
              "127                                              upi swiggy upiswiggy@icici icic payment for swiggy\n",
              "128                                              upi swiggy swiggyupi@axisbank utib swiggy order id\n",
              "129                                              upi swiggy swiggyupi@axisbank utib swiggy order id\n",
              "130                                                  upi coffee house at moun paytm @paytm pytm upi\n",
              "131                                                                         tpt check manjula nahar\n",
              "132                                                     upi gkm furnitures gpay @okbizaxis utib upi\n",
              "133                                         upi mr kishore kumar nah kishore.nahar@okaxis idibg upi\n",
              "134                                               upi zomato zomato@hdfcbank hdfc zomatoonlineorder\n",
              "135                                               upi zomato zomato@hdfcbank hdfc zomatoonlineorder\n",
              "136                                        upi zerodha broking ltd zerodhabroking@hdfcbank hdfc upi\n",
              "137                                        upi zerodha broking ltd zerodhabroking@hdfcbank hdfc upi\n",
              "138                                               upi zomato zomato order@paytm pytm zomato payment\n",
              "139                                              upi swiggy upiswiggy@icici icic payment for swiggy\n",
              "140                                              upi swiggy upiswiggy@icici icic payment for swiggy\n",
              "141                                              upi swiggy upiswiggy@icici icic payment for swiggy\n",
              "142                                              upi swiggy swiggyupi@axisbank utib swiggy order id\n",
              "143                                               upi zomato zomato order@paytm pytm zomato payment\n",
              "144                                              upi swiggy swiggyupi@axisbank utib swiggy order id\n",
              "145                                              upi swiggy swiggyupi@axisbank utib swiggy order id\n",
              "146                                      upi swiggy swiggy.refunds@axisbank utib refund from swiggy\n",
              "147                                               upi zomato zomato order@paytm pytm zomato payment\n",
              "148                                              upi swiggy swiggyupi@axisbank utib swiggy order id\n",
              "149                                              upi swiggy swiggyupi@axisbank utib swiggy order id\n",
              "150                                     upi razorpayzomato zomatoindia@icici icic zomatoonlineorder\n",
              "151    neft cr indb western union international bank g shreyans nahar purpose of payment payroll wa\n",
              "152                                               upi zomato zomato order@paytm pytm zomato payment\n",
              "153                                              upi swiggy swiggyupi@axisbank utib swiggy order id\n",
              "154                                               upi zomato zomato order@paytm pytm zomato payment\n",
              "155                                               upi zomato zomato order@paytm pytm zomato payment\n",
              "156                                                 upi rpanneerselvam pannerselvam@okaxis lavb upi\n",
              "157                                              upi swiggy upiswiggy@icici icic payment for swiggy\n",
              "158                                              upi swiggy swiggyupi@axisbank utib swiggy order id\n",
              "159                                                             ib funds transfer dr shreyans nahar\n",
              "160                                     upi sathish kumar s josephsathish@okhdfcbank ubin take care\n",
              "161                                               upi zomato zomato order@paytm pytm zomato payment\n",
              "162                                     upi razorpayzomato zomatoindia@icici icic zomatoonlineorder\n",
              "163                                              upi swiggy swiggyupi@axisbank utib swiggy order id\n",
              "164                                              upi swiggy swiggyupi@axisbank utib swiggy order id\n",
              "165                                              upi swiggy swiggyupi@axisbank utib swiggy order id\n",
              "166                                               upi zomato zomato order@paytm pytm zomato payment\n",
              "167                                              upi swiggy upiswiggy@icici icic payment for swiggy\n",
              "168                                              upi swiggy swiggyupi@axisbank utib swiggy order id\n",
              "169                                              upi paytm airtel recharg payair@paytm pytm oid@pay\n",
              "170                                               upi zomato zomato order@paytm pytm zomato payment\n",
              "171                                        upi zerodha broking ltd zerodhabroking@hdfcbank hdfc upi\n",
              "172                                       upi shreya kishore nahar shreya.nahar@okhdfcbank hdfc upi\n",
              "173                                               upi zomato zomato order@paytm pytm zomato payment\n",
              "174                                          upi fruit shop gopalapur paytmqrshrgeoh@paytm pytm upi\n",
              "175                                               upi zomato zomato@hdfcbank hdfc zomatoonlineorder\n",
              "176                                                                               pos xxxxxx swiggy\n",
              "177                                              upi swiggy swiggyupi@axisbank utib swiggy order id\n",
              "178                                              upi swiggy swiggyupi@axisbank utib swiggy order id\n",
              "179                                              upi swiggy upiswiggy@icici icic payment for swiggy\n",
              "180                                              upi swiggy swiggyupi@axisbank utib swiggy order id\n",
              "181                                              upi swiggy upiswiggy@icici icic payment for swiggy\n",
              "182                                              upi swiggy swiggyupi@axisbank utib swiggy order id\n",
              "183                                                upi khaja mohideen i ismailkhaja@okaxis ioba upi\n",
              "184                                               upi zomato zomato@hdfcbank hdfc zomatoonlineorder\n",
              "185                                     upi razorpayzomato zomatoindia@icici icic zomatoonlineorder\n",
              "186                                              upi swiggy swiggyupi@axisbank utib swiggy order id\n",
              "187                                                   upi ezilagam paytmqrrqmifrwfgg@paytm pytm upi\n",
              "188                                                       upi aavin paytmqriprxrqiqu@paytm pytm upi\n",
              "189                                              upi swiggy swiggyupi@axisbank utib swiggy order id\n",
              "190                                              upi swiggy upiswiggy@icici icic payment for swiggy\n",
              "191                                         upi urban company paytm urbanclap@paytm pytm upi intent\n",
              "192                                                             ib funds transfer cr shreyans nahar\n",
              "193                                                      upi zomato zomato order@paytm pytm express\n",
              "194                                              upi swiggy upiswiggy@icici icic payment for swiggy\n",
              "195                                        upi flipkart flipkart.payu@hdfcbank hdfc upi transaction\n",
              "196                                        upi flipkart flipkart.payu@hdfcbank hdfc upi transaction\n",
              "197                                              upi swiggy swiggyupi@axisbank utib swiggy order id\n",
              "198                                              upi swiggy swiggyupi@axisbank utib swiggy order id\n",
              "199                                         upi mr kishore kumar nah kishore.nahar@okaxis idibg upi\n",
              "200                                                  upi coffee house at moun paytm @paytm pytm upi\n",
              "201                                              upi swiggy swiggyupi@axisbank utib swiggy order id\n",
              "202                                                                    upi nagaraj t q@ybl sbin upi\n",
              "203                                                                    upi nagaraj t q@ybl sbin upi\n",
              "204                                              upi swiggy upiswiggy@icici icic payment for swiggy\n",
              "205                                          upi aswini automobiles paytmqreedxxbgwy@paytm pytm upi\n",
              "206                                                                        atw xxxxxx saccn chennai\n",
              "207                                                                        atw xxxxxx saccn chennai\n",
              "208                                              upi swiggy swiggyupi@axisbank utib swiggy order id\n",
              "209                                                             ib funds transfer cr shreyans nahar\n",
              "210                                                                    upi nagaraj t q@ybl sbin upi\n",
              "211                                              upi swiggy swiggyupi@axisbank utib swiggy order id\n",
              "212                                                  upi coffee house at moun paytm @paytm pytm upi\n",
              "213                                                                    upi nagaraj t q@ybl sbin upi\n",
              "214                                              upi swiggy swiggyupi@axisbank utib swiggy order id\n",
              "215                                              upi swiggy swiggyupi@axisbank utib swiggy order id\n",
              "216    neft cr indb western union international bank g shreyans nahar purpose of payment payroll wa\n",
              "217                                              upi swiggy swiggyupi@axisbank utib swiggy order id\n",
              "218                                             upi manjula nahar manjula.nahar@okhdfcbank hdfc upi\n",
              "219                                                                    upi nagaraj t q@ybl sbin upi\n",
              "220                                              upi swiggy swiggyupi@axisbank utib swiggy order id\n",
              "221                                         upi mr shakshi nahar shakshi.nahar@okhdfcbank idibg upi\n",
              "222                                                             ib funds transfer dr shreyans nahar\n",
              "223                                                         neft dr punb rohan netbank, mum n funds\n",
              "224                                                                     credit interest capitalised\n",
              "Name: Narration, dtype: object"
            ]
          },
          "metadata": {
            "tags": []
          },
          "execution_count": 338
        }
      ]
    },
    {
      "cell_type": "code",
      "metadata": {
        "id": "v2Djy57oyUDd"
      },
      "source": [
        "# performing data cleaning and feature engineering in the \"narration\" column\n",
        "def classify_trans(df):\n",
        "    \n",
        "    # df = pd.read_excel(\"all_bank.xlsx\")\n",
        "    t = df[\"Narration\"]\n",
        "\n",
        "    t = t.apply(lambda x: x.lower())\n",
        "\n",
        "    # Removing numbers and special characters\n",
        "    text = t.replace(to_replace=\"[0-9]\", value=\"\", regex=True).apply(\n",
        "        lambda x: x.replace(\"/\", \"\").replace(\"\\\\\", \"\").replace(\":\", \"\").replace(\"\\n\", \" \").replace(\"-\", \" \")\n",
        "        .replace(\"/\", \" \"))\n",
        "\n",
        "    # Removing extra spaces created due to the above step\n",
        "    for i in range(len(text)):\n",
        "        x = text[i].split()\n",
        "        for j in range(len(x)):\n",
        "            x[j] = x[j].strip()\n",
        "        text[i] = \" \".join(x)\n",
        "\n",
        "    #### Rewriting the dictionary in a better implementation\n",
        "\n",
        "    labels = {\"payroll\": \"payroll\", \"balaji sandwich\": \"food\", \"brown tree\": \"food\", \"amazon\": \"shopping\", \"flipkart\": \"shopping\",\n",
        "              \"nwd\": \"atm\", \"zerodha\": \"broker\", \"supermarket\" : \"utilities\", \"amzn\" : \"shopping\", \"decathlon\" : \"shopping\",\n",
        "              \"atm\": \"atm\", \"airtel\": \"recharge\", \"cycles\" : \"shopping\", \"automobiles\" : \"utilities\", \"turf town\" : \"shopping\",\n",
        "              \"credit interest\": \"interest\", \"inst alert\" : \"alert sms\", \"mcrennett\" : \"food\", \"goog payment\" : \"Money transfer\", \n",
        "              \"furnitures\": \"utilities\", \"swiggy\": \"food\", \"coffee house\": \"food\", \"zomato\": \"food\", \n",
        "              \"electricity\": \"utilities\", \"ach\" : \"Money transfer\", \"funds\": \"Fund transfer\"}\n",
        "\n",
        "    labs = []\n",
        "\n",
        "    # Labelling the transaction according to the dictionary defined\n",
        "    for i in text:\n",
        "        f = 0\n",
        "        for j in list(labels.keys()):\n",
        "            if j in i:\n",
        "                labs.append(labels[j])\n",
        "                f = 1\n",
        "                break\n",
        "        if f == 0:\n",
        "            labs.append(\"miscellaneous\")\n",
        "    df[\"Label\"] = pd.DataFrame(labs)\n",
        "\n",
        "    return (df)"
      ],
      "execution_count": 339,
      "outputs": []
    },
    {
      "cell_type": "code",
      "metadata": {
        "colab": {
          "base_uri": "https://localhost:8080/",
          "height": 310
        },
        "id": "KRkSXnFnyUGj",
        "outputId": "bfc7668f-cc17-41db-aac8-eee24572b155"
      },
      "source": [
        "classify_trans(df)\n",
        "df.head()"
      ],
      "execution_count": 340,
      "outputs": [
        {
          "output_type": "execute_result",
          "data": {
            "text/html": [
              "<div>\n",
              "<style scoped>\n",
              "    .dataframe tbody tr th:only-of-type {\n",
              "        vertical-align: middle;\n",
              "    }\n",
              "\n",
              "    .dataframe tbody tr th {\n",
              "        vertical-align: top;\n",
              "    }\n",
              "\n",
              "    .dataframe thead th {\n",
              "        text-align: right;\n",
              "    }\n",
              "</style>\n",
              "<table border=\"1\" class=\"dataframe\">\n",
              "  <thead>\n",
              "    <tr style=\"text-align: right;\">\n",
              "      <th></th>\n",
              "      <th>Date</th>\n",
              "      <th>Narration</th>\n",
              "      <th>Value Date</th>\n",
              "      <th>Debit</th>\n",
              "      <th>Credit</th>\n",
              "      <th>Label</th>\n",
              "    </tr>\n",
              "  </thead>\n",
              "  <tbody>\n",
              "    <tr>\n",
              "      <th>0</th>\n",
              "      <td>2021-01-04</td>\n",
              "      <td>UPI-K RAJESH-RAJESHDPMINDIA@OKICICI-ICIC0000009-109112901059-UPI</td>\n",
              "      <td>2021-01-04</td>\n",
              "      <td>1.00</td>\n",
              "      <td>0.0</td>\n",
              "      <td>miscellaneous</td>\n",
              "    </tr>\n",
              "    <tr>\n",
              "      <th>1</th>\n",
              "      <td>2021-01-04</td>\n",
              "      <td>NEFT DR-PUNB0668200-ROHAN-NETBANK, MUM-N091211459394676-FUNDS</td>\n",
              "      <td>2021-01-04</td>\n",
              "      <td>17816.00</td>\n",
              "      <td>0.0</td>\n",
              "      <td>Fund transfer</td>\n",
              "    </tr>\n",
              "    <tr>\n",
              "      <th>2</th>\n",
              "      <td>2021-01-04</td>\n",
              "      <td>UPI-K RAJESH-RAJESHDPMINDIA@OKICICI-ICIC0000009-109117511967-UPI</td>\n",
              "      <td>2021-01-04</td>\n",
              "      <td>24999.00</td>\n",
              "      <td>0.0</td>\n",
              "      <td>miscellaneous</td>\n",
              "    </tr>\n",
              "    <tr>\n",
              "      <th>3</th>\n",
              "      <td>2021-01-04</td>\n",
              "      <td>UPI-ZOMATO-ZOMATO-ORDER@PAYTM-PYTM0123456-109117628409-ZOMATO PAYMENT</td>\n",
              "      <td>2021-01-04</td>\n",
              "      <td>111.18</td>\n",
              "      <td>0.0</td>\n",
              "      <td>food</td>\n",
              "    </tr>\n",
              "    <tr>\n",
              "      <th>4</th>\n",
              "      <td>2021-02-04</td>\n",
              "      <td>UPI-MAHENDRAN K M-SRIMURUGANSUPERMARKET1969@OKHDFCBANK-HDFC0001864-109218533308-UPI</td>\n",
              "      <td>2021-02-04</td>\n",
              "      <td>40.00</td>\n",
              "      <td>0.0</td>\n",
              "      <td>utilities</td>\n",
              "    </tr>\n",
              "  </tbody>\n",
              "</table>\n",
              "</div>"
            ],
            "text/plain": [
              "        Date  \\\n",
              "0 2021-01-04   \n",
              "1 2021-01-04   \n",
              "2 2021-01-04   \n",
              "3 2021-01-04   \n",
              "4 2021-02-04   \n",
              "\n",
              "                                                                             Narration  \\\n",
              "0                     UPI-K RAJESH-RAJESHDPMINDIA@OKICICI-ICIC0000009-109112901059-UPI   \n",
              "1                        NEFT DR-PUNB0668200-ROHAN-NETBANK, MUM-N091211459394676-FUNDS   \n",
              "2                     UPI-K RAJESH-RAJESHDPMINDIA@OKICICI-ICIC0000009-109117511967-UPI   \n",
              "3                UPI-ZOMATO-ZOMATO-ORDER@PAYTM-PYTM0123456-109117628409-ZOMATO PAYMENT   \n",
              "4  UPI-MAHENDRAN K M-SRIMURUGANSUPERMARKET1969@OKHDFCBANK-HDFC0001864-109218533308-UPI   \n",
              "\n",
              "  Value Date     Debit  Credit          Label  \n",
              "0 2021-01-04      1.00     0.0  miscellaneous  \n",
              "1 2021-01-04  17816.00     0.0  Fund transfer  \n",
              "2 2021-01-04  24999.00     0.0  miscellaneous  \n",
              "3 2021-01-04    111.18     0.0           food  \n",
              "4 2021-02-04     40.00     0.0      utilities  "
            ]
          },
          "metadata": {
            "tags": []
          },
          "execution_count": 340
        }
      ]
    },
    {
      "cell_type": "code",
      "metadata": {
        "colab": {
          "base_uri": "https://localhost:8080/"
        },
        "id": "auOgCjGaAeYe",
        "outputId": "84a8a48f-bce5-4ac0-cb59-27eb77d581d8"
      },
      "source": [
        "df['Label'].value_counts()"
      ],
      "execution_count": 341,
      "outputs": [
        {
          "output_type": "execute_result",
          "data": {
            "text/plain": [
              "food              118\n",
              "miscellaneous      56\n",
              "broker             12\n",
              "shopping           11\n",
              "utilities           8\n",
              "Fund transfer       8\n",
              "recharge            3\n",
              "Money transfer      3\n",
              "atm                 2\n",
              "payroll             2\n",
              "interest            1\n",
              "alert sms           1\n",
              "Name: Label, dtype: int64"
            ]
          },
          "metadata": {
            "tags": []
          },
          "execution_count": 341
        }
      ]
    },
    {
      "cell_type": "code",
      "metadata": {
        "id": "vqXaqNVJyUKg"
      },
      "source": [
        "# I am creating the new column whether it is a debit or credit transaction.\n",
        "def money(df):\n",
        "    type = []\n",
        "    for i in df.index:\n",
        "        if df[\"Debit\"][i] > 0:\n",
        "            type.append(\"Debit\")\n",
        "        else:\n",
        "            type.append(\"Credit\")\n",
        "    df[\"Type\"] = pd.DataFrame(type)\n",
        "    return (df)"
      ],
      "execution_count": 343,
      "outputs": []
    },
    {
      "cell_type": "code",
      "metadata": {
        "colab": {
          "base_uri": "https://localhost:8080/",
          "height": 328
        },
        "id": "_r5Kl_jfyUNw",
        "outputId": "72550c73-ff89-4265-c484-52d8f6ab0de6"
      },
      "source": [
        "money(df)\n",
        "df.head()"
      ],
      "execution_count": 344,
      "outputs": [
        {
          "output_type": "execute_result",
          "data": {
            "text/html": [
              "<div>\n",
              "<style scoped>\n",
              "    .dataframe tbody tr th:only-of-type {\n",
              "        vertical-align: middle;\n",
              "    }\n",
              "\n",
              "    .dataframe tbody tr th {\n",
              "        vertical-align: top;\n",
              "    }\n",
              "\n",
              "    .dataframe thead th {\n",
              "        text-align: right;\n",
              "    }\n",
              "</style>\n",
              "<table border=\"1\" class=\"dataframe\">\n",
              "  <thead>\n",
              "    <tr style=\"text-align: right;\">\n",
              "      <th></th>\n",
              "      <th>Date</th>\n",
              "      <th>Narration</th>\n",
              "      <th>Value Date</th>\n",
              "      <th>Debit</th>\n",
              "      <th>Credit</th>\n",
              "      <th>Label</th>\n",
              "      <th>Type</th>\n",
              "    </tr>\n",
              "  </thead>\n",
              "  <tbody>\n",
              "    <tr>\n",
              "      <th>0</th>\n",
              "      <td>2021-01-04</td>\n",
              "      <td>UPI-K RAJESH-RAJESHDPMINDIA@OKICICI-ICIC0000009-109112901059-UPI</td>\n",
              "      <td>2021-01-04</td>\n",
              "      <td>1.00</td>\n",
              "      <td>0.0</td>\n",
              "      <td>miscellaneous</td>\n",
              "      <td>Debit</td>\n",
              "    </tr>\n",
              "    <tr>\n",
              "      <th>1</th>\n",
              "      <td>2021-01-04</td>\n",
              "      <td>NEFT DR-PUNB0668200-ROHAN-NETBANK, MUM-N091211459394676-FUNDS</td>\n",
              "      <td>2021-01-04</td>\n",
              "      <td>17816.00</td>\n",
              "      <td>0.0</td>\n",
              "      <td>Fund transfer</td>\n",
              "      <td>Debit</td>\n",
              "    </tr>\n",
              "    <tr>\n",
              "      <th>2</th>\n",
              "      <td>2021-01-04</td>\n",
              "      <td>UPI-K RAJESH-RAJESHDPMINDIA@OKICICI-ICIC0000009-109117511967-UPI</td>\n",
              "      <td>2021-01-04</td>\n",
              "      <td>24999.00</td>\n",
              "      <td>0.0</td>\n",
              "      <td>miscellaneous</td>\n",
              "      <td>Debit</td>\n",
              "    </tr>\n",
              "    <tr>\n",
              "      <th>3</th>\n",
              "      <td>2021-01-04</td>\n",
              "      <td>UPI-ZOMATO-ZOMATO-ORDER@PAYTM-PYTM0123456-109117628409-ZOMATO PAYMENT</td>\n",
              "      <td>2021-01-04</td>\n",
              "      <td>111.18</td>\n",
              "      <td>0.0</td>\n",
              "      <td>food</td>\n",
              "      <td>Debit</td>\n",
              "    </tr>\n",
              "    <tr>\n",
              "      <th>4</th>\n",
              "      <td>2021-02-04</td>\n",
              "      <td>UPI-MAHENDRAN K M-SRIMURUGANSUPERMARKET1969@OKHDFCBANK-HDFC0001864-109218533308-UPI</td>\n",
              "      <td>2021-02-04</td>\n",
              "      <td>40.00</td>\n",
              "      <td>0.0</td>\n",
              "      <td>utilities</td>\n",
              "      <td>Debit</td>\n",
              "    </tr>\n",
              "  </tbody>\n",
              "</table>\n",
              "</div>"
            ],
            "text/plain": [
              "        Date  \\\n",
              "0 2021-01-04   \n",
              "1 2021-01-04   \n",
              "2 2021-01-04   \n",
              "3 2021-01-04   \n",
              "4 2021-02-04   \n",
              "\n",
              "                                                                             Narration  \\\n",
              "0                     UPI-K RAJESH-RAJESHDPMINDIA@OKICICI-ICIC0000009-109112901059-UPI   \n",
              "1                        NEFT DR-PUNB0668200-ROHAN-NETBANK, MUM-N091211459394676-FUNDS   \n",
              "2                     UPI-K RAJESH-RAJESHDPMINDIA@OKICICI-ICIC0000009-109117511967-UPI   \n",
              "3                UPI-ZOMATO-ZOMATO-ORDER@PAYTM-PYTM0123456-109117628409-ZOMATO PAYMENT   \n",
              "4  UPI-MAHENDRAN K M-SRIMURUGANSUPERMARKET1969@OKHDFCBANK-HDFC0001864-109218533308-UPI   \n",
              "\n",
              "  Value Date     Debit  Credit          Label   Type  \n",
              "0 2021-01-04      1.00     0.0  miscellaneous  Debit  \n",
              "1 2021-01-04  17816.00     0.0  Fund transfer  Debit  \n",
              "2 2021-01-04  24999.00     0.0  miscellaneous  Debit  \n",
              "3 2021-01-04    111.18     0.0           food  Debit  \n",
              "4 2021-02-04     40.00     0.0      utilities  Debit  "
            ]
          },
          "metadata": {
            "tags": []
          },
          "execution_count": 344
        }
      ]
    },
    {
      "cell_type": "code",
      "metadata": {
        "id": "nZLPyYhlQfeT"
      },
      "source": [
        "# finally created new dataset\n",
        "df.to_csv('clean_finsire.csv', index=False)"
      ],
      "execution_count": 345,
      "outputs": []
    },
    {
      "cell_type": "code",
      "metadata": {
        "colab": {
          "base_uri": "https://localhost:8080/"
        },
        "id": "G707MJHqyURn",
        "outputId": "bf51e7ea-80e7-45ff-91e6-b8bcf4769ced"
      },
      "source": [
        "df['Type'].value_counts()"
      ],
      "execution_count": 346,
      "outputs": [
        {
          "output_type": "execute_result",
          "data": {
            "text/plain": [
              "Debit     206\n",
              "Credit     19\n",
              "Name: Type, dtype: int64"
            ]
          },
          "metadata": {
            "tags": []
          },
          "execution_count": 346
        }
      ]
    },
    {
      "cell_type": "code",
      "metadata": {
        "id": "QYhYxcIpqW-8"
      },
      "source": [
        "# checking the count of labels in label column using matplotlib visualization.\n",
        "def analyse(df):\n",
        "    labels = df[\"Label\"].unique()\n",
        "    counts = df.groupby(\"Label\").size()\n",
        "\n",
        "    plt.figure(figsize=(16, 10))\n",
        "    plt.bar(counts.index, counts)\n",
        "    plt.show()"
      ],
      "execution_count": 347,
      "outputs": []
    },
    {
      "cell_type": "code",
      "metadata": {
        "colab": {
          "base_uri": "https://localhost:8080/",
          "height": 592
        },
        "id": "LmxhrqFMO7G9",
        "outputId": "f537df79-bb90-4684-953a-885894759dd6"
      },
      "source": [
        "analyse(df)"
      ],
      "execution_count": 348,
      "outputs": [
        {
          "output_type": "display_data",
          "data": {
            "image/png": "[encoded data removed]",
            "text/plain": [
              "<Figure size 1152x720 with 1 Axes>"
            ]
          },
          "metadata": {
            "tags": [],
            "needs_background": "light"
          }
        }
      ]
    },
    {
      "cell_type": "code",
      "metadata": {
        "id": "kTxv1uV9O7Mu"
      },
      "source": [
        "# seeing the \"type\" column visualization\n",
        "def analyzer(df):\n",
        "    labels = df[\"Type\"].unique()\n",
        "    counts = df.groupby(\"Type\").size()\n",
        "\n",
        "    plt.figure(figsize=(16, 10))\n",
        "    plt.bar(counts.index, counts)\n",
        "    plt.show()"
      ],
      "execution_count": 349,
      "outputs": []
    },
    {
      "cell_type": "code",
      "metadata": {
        "colab": {
          "base_uri": "https://localhost:8080/",
          "height": 592
        },
        "id": "dNDWC53LO7SI",
        "outputId": "59c77102-4c9f-4d12-ec81-f1f016a06296"
      },
      "source": [
        "analyzer(df)"
      ],
      "execution_count": 350,
      "outputs": [
        {
          "output_type": "display_data",
          "data": {
            "image/png": "[encoded data removed]",
            "text/plain": [
              "<Figure size 1152x720 with 1 Axes>"
            ]
          },
          "metadata": {
            "tags": [],
            "needs_background": "light"
          }
        }
      ]
    },
    {
      "cell_type": "code",
      "metadata": {
        "colab": {
          "base_uri": "https://localhost:8080/"
        },
        "id": "Ifd5Kd62O7V6",
        "outputId": "b814565c-92ab-4725-b79d-d9c9af6bca32"
      },
      "source": [
        "# converting the label to numerical category using label encoding\n",
        "from sklearn.preprocessing import LabelEncoder\n",
        "le = LabelEncoder()\n",
        "df['Label'] = le.fit_transform(df['Label'])\n",
        "le.classes_"
      ],
      "execution_count": 351,
      "outputs": [
        {
          "output_type": "execute_result",
          "data": {
            "text/plain": [
              "array(['Fund transfer', 'Money transfer', 'alert sms', 'atm', 'broker',\n",
              "       'food', 'interest', 'miscellaneous', 'payroll', 'recharge',\n",
              "       'shopping', 'utilities'], dtype=object)"
            ]
          },
          "metadata": {
            "tags": []
          },
          "execution_count": 351
        }
      ]
    },
    {
      "cell_type": "code",
      "metadata": {
        "colab": {
          "base_uri": "https://localhost:8080/"
        },
        "id": "WGhfn4sbP-1O",
        "outputId": "f876389f-d98b-4bc1-f908-1a4d66d611b2"
      },
      "source": [
        "df.columns"
      ],
      "execution_count": 352,
      "outputs": [
        {
          "output_type": "execute_result",
          "data": {
            "text/plain": [
              "Index(['Date', 'Narration', 'Value Date', 'Debit', 'Credit', 'Label', 'Type'], dtype='object')"
            ]
          },
          "metadata": {
            "tags": []
          },
          "execution_count": 352
        }
      ]
    },
    {
      "cell_type": "code",
      "metadata": {
        "id": "p8YR5pN3PO0y"
      },
      "source": [
        "# we extract data from Narration. so i am going to drop that feature. \n",
        "# And also dropping the date features.\n",
        "df.drop(['Date', 'Narration', 'Value Date'], axis=1, inplace=True)"
      ],
      "execution_count": 353,
      "outputs": []
    },
    {
      "cell_type": "code",
      "metadata": {
        "colab": {
          "base_uri": "https://localhost:8080/",
          "height": 206
        },
        "id": "MC2cv9OaPO62",
        "outputId": "58479c56-7944-4454-cb6c-bb3564a248f5"
      },
      "source": [
        "z = {'Debit' : 0, 'Credit' : 1}\n",
        "df['Type'] = df['Type'].map(z)\n",
        "df.head()"
      ],
      "execution_count": 354,
      "outputs": [
        {
          "output_type": "execute_result",
          "data": {
            "text/html": [
              "<div>\n",
              "<style scoped>\n",
              "    .dataframe tbody tr th:only-of-type {\n",
              "        vertical-align: middle;\n",
              "    }\n",
              "\n",
              "    .dataframe tbody tr th {\n",
              "        vertical-align: top;\n",
              "    }\n",
              "\n",
              "    .dataframe thead th {\n",
              "        text-align: right;\n",
              "    }\n",
              "</style>\n",
              "<table border=\"1\" class=\"dataframe\">\n",
              "  <thead>\n",
              "    <tr style=\"text-align: right;\">\n",
              "      <th></th>\n",
              "      <th>Debit</th>\n",
              "      <th>Credit</th>\n",
              "      <th>Label</th>\n",
              "      <th>Type</th>\n",
              "    </tr>\n",
              "  </thead>\n",
              "  <tbody>\n",
              "    <tr>\n",
              "      <th>0</th>\n",
              "      <td>1.00</td>\n",
              "      <td>0.0</td>\n",
              "      <td>7</td>\n",
              "      <td>0</td>\n",
              "    </tr>\n",
              "    <tr>\n",
              "      <th>1</th>\n",
              "      <td>17816.00</td>\n",
              "      <td>0.0</td>\n",
              "      <td>0</td>\n",
              "      <td>0</td>\n",
              "    </tr>\n",
              "    <tr>\n",
              "      <th>2</th>\n",
              "      <td>24999.00</td>\n",
              "      <td>0.0</td>\n",
              "      <td>7</td>\n",
              "      <td>0</td>\n",
              "    </tr>\n",
              "    <tr>\n",
              "      <th>3</th>\n",
              "      <td>111.18</td>\n",
              "      <td>0.0</td>\n",
              "      <td>5</td>\n",
              "      <td>0</td>\n",
              "    </tr>\n",
              "    <tr>\n",
              "      <th>4</th>\n",
              "      <td>40.00</td>\n",
              "      <td>0.0</td>\n",
              "      <td>11</td>\n",
              "      <td>0</td>\n",
              "    </tr>\n",
              "  </tbody>\n",
              "</table>\n",
              "</div>"
            ],
            "text/plain": [
              "      Debit  Credit  Label  Type\n",
              "0      1.00     0.0      7     0\n",
              "1  17816.00     0.0      0     0\n",
              "2  24999.00     0.0      7     0\n",
              "3    111.18     0.0      5     0\n",
              "4     40.00     0.0     11     0"
            ]
          },
          "metadata": {
            "tags": []
          },
          "execution_count": 354
        }
      ]
    },
    {
      "cell_type": "code",
      "metadata": {
        "colab": {
          "base_uri": "https://localhost:8080/"
        },
        "id": "ixmDJlqcPPAu",
        "outputId": "4709d670-d743-44ae-8ec9-33e0b0386795"
      },
      "source": [
        "x=df.drop(['Type'], axis = 1)\n",
        "y=df['Type']\n",
        "x.shape, y.shape"
      ],
      "execution_count": 355,
      "outputs": [
        {
          "output_type": "execute_result",
          "data": {
            "text/plain": [
              "((225, 3), (225,))"
            ]
          },
          "metadata": {
            "tags": []
          },
          "execution_count": 355
        }
      ]
    },
    {
      "cell_type": "markdown",
      "metadata": {
        "id": "faCgRcUlUaYW"
      },
      "source": [
        "## TRAIN - TEST SPLIT"
      ]
    },
    {
      "cell_type": "code",
      "metadata": {
        "id": "GThYdQkWPPD1"
      },
      "source": [
        "from sklearn.model_selection import train_test_split\n",
        "x_train,x_test, y_train, y_test = train_test_split(x,y, test_size =0.20, random_state = 3)"
      ],
      "execution_count": 356,
      "outputs": []
    },
    {
      "cell_type": "markdown",
      "metadata": {
        "id": "Oi47Z14FUd6O"
      },
      "source": [
        "## MODEL BUILDING  USING XGBOOST"
      ]
    },
    {
      "cell_type": "code",
      "metadata": {
        "id": "mveVz7KnRf9S"
      },
      "source": [
        "import xgboost\n",
        "clf = xgboost.XGBClassifier()\n",
        "clf.fit(x_train, y_train)\n",
        "y_pred=clf.predict(x_test)"
      ],
      "execution_count": 359,
      "outputs": []
    },
    {
      "cell_type": "code",
      "metadata": {
        "colab": {
          "base_uri": "https://localhost:8080/"
        },
        "id": "GPLeQ9H9RgDX",
        "outputId": "1dc7ea2c-9f44-4ddc-c2a6-e6ecfb05d938"
      },
      "source": [
        "from sklearn.metrics import confusion_matrix\n",
        "from sklearn.metrics import classification_report, roc_curve, auc\n",
        "\n",
        "print(classification_report(y_test, y_pred))\n",
        "print(confusion_matrix(y_test, y_pred))\n",
        "\n",
        "from sklearn.metrics import accuracy_score\n",
        "print('accuracy is',accuracy_score(y_test,y_pred))"
      ],
      "execution_count": 360,
      "outputs": [
        {
          "output_type": "stream",
          "text": [
            "              precision    recall  f1-score   support\n",
            "\n",
            "           0       1.00      1.00      1.00        40\n",
            "           1       1.00      1.00      1.00         5\n",
            "\n",
            "    accuracy                           1.00        45\n",
            "   macro avg       1.00      1.00      1.00        45\n",
            "weighted avg       1.00      1.00      1.00        45\n",
            "\n",
            "[[40  0]\n",
            " [ 0  5]]\n",
            "accuracy is 1.0\n"
          ],
          "name": "stdout"
        }
      ]
    },
    {
      "cell_type": "markdown",
      "metadata": {
        "id": "4Ss_8IPHUjdm"
      },
      "source": [
        "Conclusion : My model gives me 100% accuracy with no type 1 error and type 2 error (no false positives and false negatives)."
      ]
    }
  ]
}